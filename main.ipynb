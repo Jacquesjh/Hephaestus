{
 "cells": [
  {
   "cell_type": "code",
   "execution_count": null,
   "metadata": {},
   "outputs": [],
   "source": [
    "import glob\n",
    "import os\n",
    "\n",
    "import numpy as np\n",
    "import plotly.express as px\n",
    "import tifffile\n",
    "from tqdm.contrib import tzip"
   ]
  },
  {
   "attachments": {},
   "cell_type": "markdown",
   "metadata": {},
   "source": [
    "# Specifying the dataset"
   ]
  },
  {
   "cell_type": "code",
   "execution_count": null,
   "metadata": {},
   "outputs": [],
   "source": [
    "specific = \"test\"\n",
    "dataset_name = \"MBSDS\"\n",
    "\n",
    "images_path = glob.glob(pathname=f\"data/{dataset_name}/tiff/{specific}/*.tiff\")\n",
    "masks_path = glob.glob(pathname=f\"data/{dataset_name}/tiff/{specific}_labels/*.tif\")\n",
    "\n",
    "print(f\"{len(images_path)} images found\")\n",
    "print(f\"{len(masks_path)} masks found\")"
   ]
  },
  {
   "attachments": {},
   "cell_type": "markdown",
   "metadata": {},
   "source": [
    "# Aux functions"
   ]
  },
  {
   "cell_type": "code",
   "execution_count": null,
   "metadata": {},
   "outputs": [],
   "source": [
    "def split_array_by_resolution(\n",
    "    array: np.ndarray, resolution: int, axis: int\n",
    ") -> list[np.ndarray]:\n",
    "    list_arrays = np.split(\n",
    "        array, np.arange(resolution, array.shape[axis], resolution), axis=axis\n",
    "    )\n",
    "\n",
    "    return list_arrays"
   ]
  },
  {
   "cell_type": "code",
   "execution_count": null,
   "metadata": {},
   "outputs": [],
   "source": [
    "def fix_image_array_shape(\n",
    "    image_array: np.ndarray, expected_resolution: int\n",
    ") -> np.ndarray:\n",
    "    fixed_image = np.pad(\n",
    "        array=image_array,\n",
    "        pad_width=(\n",
    "            (0, expected_resolution - image_array.shape[0]),\n",
    "            (0, expected_resolution - image_array.shape[1]),\n",
    "            (0, 0),\n",
    "        ),\n",
    "        mode=\"constant\",\n",
    "    )\n",
    "\n",
    "    return fixed_image"
   ]
  },
  {
   "cell_type": "code",
   "execution_count": null,
   "metadata": {},
   "outputs": [],
   "source": [
    "def split_image_array(image_array: np.ndarray, resolution: int) -> np.ndarray:\n",
    "    first_split_images = split_array_by_resolution(\n",
    "        array=image_array, resolution=resolution, axis=0\n",
    "    )\n",
    "\n",
    "    all_images = list()\n",
    "\n",
    "    for image in first_split_images:\n",
    "        second_split_images = split_array_by_resolution(\n",
    "            array=image, resolution=resolution, axis=1\n",
    "        )\n",
    "\n",
    "        for img in second_split_images:\n",
    "            if img.shape != (resolution, resolution, 3):\n",
    "                img = fix_image_array_shape(\n",
    "                    image_array=img, expected_resolution=resolution\n",
    "                )\n",
    "\n",
    "            all_images.append(img)\n",
    "\n",
    "    return all_images"
   ]
  },
  {
   "cell_type": "code",
   "execution_count": null,
   "metadata": {},
   "outputs": [],
   "source": [
    "def check_valid_mask(mask: np.ndarray, threshold: float) -> bool:\n",
    "    total_values = mask.shape[0] * mask.shape[1]\n",
    "    num_ones = np.count_nonzero(mask[:, :, 0] == 1)\n",
    "\n",
    "    if num_ones >= total_values * threshold:\n",
    "        return True\n",
    "\n",
    "    else:\n",
    "        return False"
   ]
  },
  {
   "cell_type": "code",
   "execution_count": null,
   "metadata": {},
   "outputs": [],
   "source": [
    "def save_smaller_arrays(\n",
    "    arrays: np.ndarray, array_path: str, is_label: bool, dataset_name: str\n",
    ") -> None:\n",
    "    image_type = \"LABEL\" if is_label else \"RGB\"\n",
    "\n",
    "    folder_suffix = \"/labels\" if is_label else \"/tiles\"\n",
    "\n",
    "    folder = array_path.split(sep=\"\\\\\")[0] + folder_suffix\n",
    "\n",
    "    if not os.path.exists(path=folder):\n",
    "        os.makedirs(name=folder, exist_ok=True)\n",
    "\n",
    "    for index, array in enumerate(arrays):\n",
    "        image_code = array_path.split(sep=\"\\\\\")[-1]\n",
    "        image_code = image_code.replace(\"_\", \"\")\n",
    "\n",
    "        path = f\"{folder}/{dataset_name}_{image_type}_{image_code}_p{index:04d}.tif\"\n",
    "\n",
    "        tifffile.imwrite(path, data=array)"
   ]
  },
  {
   "attachments": {},
   "cell_type": "markdown",
   "metadata": {},
   "source": [
    "# Main"
   ]
  },
  {
   "cell_type": "code",
   "execution_count": null,
   "metadata": {},
   "outputs": [],
   "source": [
    "for image_path, mask_path in tzip(images_path, masks_path):\n",
    "    original_size_image_array = tifffile.imread(files=image_path)\n",
    "    original_size_mask = tifffile.imread(files=mask_path)\n",
    "\n",
    "    new_image_arrays_path = image_path[:-5].replace(\"tiff\", \"preprocessed\")\n",
    "    new_mask_arrays_path = (\n",
    "        mask_path[:-5].replace(\"tiff\", \"preprocessed\").replace(\"train_labels\", \"train\")\n",
    "    )\n",
    "\n",
    "    smaller_image_arrays = split_image_array(\n",
    "        image_array=original_size_image_array, resolution=256\n",
    "    )\n",
    "\n",
    "    smaller_mask_arrays = split_image_array(\n",
    "        image_array=original_size_mask, resolution=256\n",
    "    )\n",
    "\n",
    "    images_array = list()\n",
    "    masks_array = list()\n",
    "\n",
    "    for image, mask in zip(smaller_image_arrays, smaller_mask_arrays):\n",
    "        cliped_mask = np.clip(a=mask, a_min=0.0, a_max=1.0)\n",
    "\n",
    "        if check_valid_mask(mask=cliped_mask, threshold=0.1):\n",
    "            images_array.append(image)\n",
    "            masks_array.append(cliped_mask)\n",
    "\n",
    "    save_smaller_arrays(\n",
    "        arrays=images_array,\n",
    "        array_path=new_image_arrays_path,\n",
    "        is_label=False,\n",
    "        dataset_name=dataset_name,\n",
    "    )\n",
    "\n",
    "    save_smaller_arrays(\n",
    "        arrays=masks_array,\n",
    "        array_path=new_mask_arrays_path,\n",
    "        is_label=True,\n",
    "        dataset_name=dataset_name,\n",
    "    )"
   ]
  },
  {
   "cell_type": "code",
   "execution_count": null,
   "metadata": {},
   "outputs": [],
   "source": [
    "px.imshow(smaller_image_arrays[11])"
   ]
  }
 ],
 "metadata": {
  "kernelspec": {
   "display_name": "hephaestus-pLh7lJ_--py3.10",
   "language": "python",
   "name": "python3"
  },
  "language_info": {
   "codemirror_mode": {
    "name": "ipython",
    "version": 3
   },
   "file_extension": ".py",
   "mimetype": "text/x-python",
   "name": "python",
   "nbconvert_exporter": "python",
   "pygments_lexer": "ipython3",
   "version": "3.10.8"
  },
  "orig_nbformat": 4,
  "vscode": {
   "interpreter": {
    "hash": "e58c4fd1c77606ef3ed642dc46402f9792d0a98398c6274c3b949cdf0f6db1c2"
   }
  }
 },
 "nbformat": 4,
 "nbformat_minor": 2
}
